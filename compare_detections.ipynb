{
 "cells": [
  {
   "cell_type": "code",
   "execution_count": 40,
   "outputs": [],
   "source": [
    "import numpy as np\n",
    "import pandas as pd\n",
    "import mne\n",
    "from matplotlib import pyplot as plt\n",
    "import scipy.stats as sp_stats\n",
    "import scipy.signal as sp_sig\n",
    "import antropy as ant\n",
    "from scipy.integrate import simps\n",
    "from sklearn.metrics import confusion_matrix, ConfusionMatrixDisplay\n",
    "from ipynb.fs.defs.yasa_model import calc_features, get_metrics\n",
    "import joblib\n",
    "import math\n",
    "from sklearn.preprocessing import robust_scale, normalize\n",
    "from scipy import stats, signal\n",
    "\n",
    "plt.style.use('dark_background')\n",
    "pd.options.display.precision = 10"
   ],
   "metadata": {
    "collapsed": false,
    "pycharm": {
     "name": "#%%\n"
    }
   }
  },
  {
   "cell_type": "code",
   "execution_count": 16,
   "outputs": [],
   "source": [
    "def format_raw_night(edf, channel):\n",
    "    epochs = []\n",
    "    window_size = int(sr / 4)\n",
    "    if '-' in channel and 'REF' not in channel and 'E2' not in channel:\n",
    "        chans = channel.split('-')\n",
    "        raw = mne.io.read_raw_edf(edf).pick_channels(chans).resample(sr)\n",
    "        # raw = remove_rem(raw, edf)\n",
    "        mne.set_bipolar_reference(raw, chans[0], chans[1], ch_name=channel)\n",
    "        raw_data = raw.get_data()[0]\n",
    "    else:\n",
    "        raw_data = mne.io.read_raw_edf(edf).pick_channels([channel]).resample(sr).get_data()[0]\n",
    "    for i in range(0, len(raw_data), window_size):\n",
    "        curr_block = raw_data[i: i  + window_size]\n",
    "        if i + window_size < len(raw_data):\n",
    "            epochs.append(curr_block)\n",
    "\n",
    "    # Normalization\n",
    "    epochs = np.array(epochs)\n",
    "    epochs = (epochs - epochs.mean()) / epochs.std()\n",
    "    return epochs"
   ],
   "metadata": {
    "collapsed": false,
    "pycharm": {
     "name": "#%%\n"
    }
   }
  },
  {
   "cell_type": "code",
   "execution_count": 17,
   "outputs": [],
   "source": [
    "def bandpower_from_psd_ndarray(psd, freqs, bands, relative=True):\n",
    "    # Type checks\n",
    "    assert isinstance(bands, list), 'bands must be a list of tuple(s)'\n",
    "    assert isinstance(relative, bool), 'relative must be a boolean'\n",
    "\n",
    "    # Safety checks\n",
    "    freqs = np.asarray(freqs)\n",
    "    psd = np.asarray(psd)\n",
    "    assert freqs.ndim == 1, 'freqs must be a 1-D array of shape (n_freqs,)'\n",
    "    assert psd.shape[-1] == freqs.shape[-1], 'n_freqs must be last axis of psd'\n",
    "\n",
    "    # Extract frequencies of interest\n",
    "    all_freqs = np.hstack([[b[0], b[1]] for b in bands])\n",
    "    fmin, fmax = min(all_freqs), max(all_freqs)\n",
    "    idx_good_freq = np.logical_and(freqs >= fmin, freqs <= fmax)\n",
    "    freqs = freqs[idx_good_freq]\n",
    "    res = freqs[1] - freqs[0]\n",
    "\n",
    "    # Trim PSD to frequencies of interest\n",
    "    psd = psd[..., idx_good_freq]\n",
    "\n",
    "    # Check if there are negative values in PSD\n",
    "    if (psd < 0).any():\n",
    "        msg = (\n",
    "            \"There are negative values in PSD. This will result in incorrect \"\n",
    "            \"bandpower values. We highly recommend working with an \"\n",
    "            \"all-positive PSD. For more details, please refer to: \"\n",
    "            \"https://github.com/raphaelvallat/yasa/issues/29\")\n",
    "        print(msg)\n",
    "\n",
    "    # Calculate total power\n",
    "    total_power = simps(psd, dx=res, axis=-1)\n",
    "    total_power = total_power[np.newaxis, ...]\n",
    "\n",
    "    # Initialize empty array\n",
    "    bp = np.zeros((len(bands), *psd.shape[:-1]), dtype=np.float)\n",
    "\n",
    "    # Enumerate over the frequency bands\n",
    "    labels = []\n",
    "    for i, band in enumerate(bands):\n",
    "        b0, b1, la = band\n",
    "        labels.append(la)\n",
    "        idx_band = np.logical_and(freqs >= b0, freqs <= b1)\n",
    "        bp[i] = simps(psd[..., idx_band], dx=res, axis=-1)\n",
    "\n",
    "    if relative:\n",
    "        bp /= total_power\n",
    "    return bp\n",
    "\n",
    "\n",
    "def calc_features_fast(epochs, subj):\n",
    "    # Bandpass filter\n",
    "    freq_broad = (0.1, 500)\n",
    "    # FFT & bandpower parameters\n",
    "    sr = 1000\n",
    "    bands = [\n",
    "        (0.1, 4, 'delta'), (4, 8, 'theta'),\n",
    "        (8, 12, 'alpha'), (12, 16, 'sigma'), (16, 30, 'beta'),\n",
    "        (30, 100, 'gamma'), (100, 300, 'fast')\n",
    "    ]\n",
    "\n",
    "    # Calculate standard descriptive statistics\n",
    "    hmob, hcomp = ant.hjorth_params(epochs, axis=1)\n",
    "\n",
    "    feat = {\n",
    "        'subj': np.full(len(epochs), subj),\n",
    "        'epoch_id': np.arange(len(epochs)),\n",
    "        'std': np.std(epochs, ddof=1, axis=1),\n",
    "        'iqr': sp_stats.iqr(epochs, axis=1),\n",
    "        'skew': sp_stats.skew(epochs, axis=1),\n",
    "        'kurt': sp_stats.kurtosis(epochs, axis=1),\n",
    "        'nzc': ant.num_zerocross(epochs, axis=1),\n",
    "        'hmob': hmob,\n",
    "        'hcomp': hcomp\n",
    "    }\n",
    "\n",
    "    # Calculate spectral power features (for EEG + EOG)\n",
    "    freqs, psd = sp_sig.welch(epochs, sr)\n",
    "    bp = bandpower_from_psd_ndarray(psd, freqs, bands=bands)\n",
    "    for j, (_, _, b) in enumerate(bands):\n",
    "        feat[b] = bp[j]\n",
    "\n",
    "    feat['at'] = feat['alpha'] / feat['theta']\n",
    "    feat['gt'] = feat['gamma'] / feat['theta']\n",
    "    feat['ft'] = feat['fast'] / feat['theta']\n",
    "    feat['ag'] = feat['gamma'] / feat['alpha']\n",
    "    feat['af'] = feat['fast'] / feat['alpha']\n",
    "    feat['sf'] = feat['sigma'] / feat['fast']\n",
    "    feat['bf'] = feat['beta'] / feat['fast']\n",
    "    feat['gf'] = feat['gamma'] / feat['fast']\n",
    "\n",
    "    # Add total power\n",
    "    idx_broad = np.logical_and(\n",
    "        freqs >= freq_broad[0], freqs <= freq_broad[1])\n",
    "    dx = freqs[1] - freqs[0]\n",
    "    feat['abspow'] = np.trapz(psd[:, idx_broad], dx=dx)\n",
    "\n",
    "    # Calculate entropy and fractal dimension features\n",
    "    feat['perm'] = np.apply_along_axis(\n",
    "        ant.perm_entropy, axis=1, arr=epochs, normalize=True)\n",
    "    feat['higuchi'] = np.apply_along_axis(\n",
    "        ant.higuchi_fd, axis=1, arr=epochs)\n",
    "    feat['petrosian'] = ant.petrosian_fd(epochs, axis=1)\n",
    "\n",
    "    # Convert to dataframe\n",
    "    feat = pd.DataFrame(feat)\n",
    "    # feat.index.name = 'epoch'\n",
    "\n",
    "    #############################\n",
    "    # SMOOTHING & NORMALIZATION\n",
    "    #############################\n",
    "    roll1 = feat.rolling(window=1, center=True, min_periods=1, win_type='triang').mean()\n",
    "    roll1[roll1.columns] = robust_scale(roll1, quantile_range=(5, 95))\n",
    "    roll1 = roll1.iloc[:, 2:].add_suffix('_cmin_norm')\n",
    "\n",
    "    roll3 = feat.rolling(window=3, center=True, min_periods=1, win_type='triang').mean()\n",
    "    roll3[roll3.columns] = robust_scale(roll3, quantile_range=(5, 95))\n",
    "    roll3 = roll3.iloc[:, 2:].add_suffix('_pmin_norm')\n",
    "\n",
    "    # Add to current set of features\n",
    "    feat = feat.join(roll1).join(roll3)\n",
    "\n",
    "    return feat"
   ],
   "metadata": {
    "collapsed": false,
    "pycharm": {
     "name": "#%%\n"
    }
   }
  },
  {
   "cell_type": "code",
   "execution_count": 18,
   "outputs": [
    {
     "name": "stderr",
     "output_type": "stream",
     "text": [
      "/Users/rotemfalach/projects/venv/mmf_to_edf/lib/python3.7/site-packages/sklearn/base.py:334: UserWarning: Trying to unpickle estimator LabelEncoder from version 1.0.2 when using version 0.23.2. This might lead to breaking code or invalid results. Use at your own risk.\n",
      "  UserWarning)\n"
     ]
    }
   ],
   "source": [
    "model = joblib.load('/Users/rotemfalach/Documents/University/lab/data/lgbm_AH_only_7.pkl')\n",
    "features_names = pd.read_csv('/Users/rotemfalach/Documents/University/lab/data/features_AH_only_7.csv').columns.tolist()\n",
    "edf_path = '/Users/rotemfalach/Documents/University/lab/data/%s_for_tag.edf'\n",
    "sr = 1000"
   ],
   "metadata": {
    "collapsed": false,
    "pycharm": {
     "name": "#%%\n"
    }
   }
  },
  {
   "cell_type": "code",
   "execution_count": 25,
   "outputs": [],
   "source": [
    "threshold_env = 8  # threshold in standard deviations for the envelope after bandpass (HP)\n",
    "threshold_amp = 5  # threshold in standard deviations for the amplitude\n",
    "threshold_grad = 5 # threshold in standard deviations for the gradient\n",
    "threshold_env_conj = 3\n",
    "threshold_amp_conj = 3\n",
    "threshold_grad_conj = 3\n",
    "use_env = True\n",
    "use_amp = True\n",
    "use_grad = True\n",
    "use_amp_grad = True\n",
    "use_amp_env = True\n",
    "block_size_sec = 10  # filter and find peaks at blocks of X seconds - based on Andrillon et al\n",
    "\n",
    "# the bandpass range is based on Andrillon et al\n",
    "low_pass = 50\n",
    "high_pass = 150\n",
    "\n",
    "min_spike_length_ms = 5  # a spike is detected if there are points for X ms passing the threshold - in ms, based on Andrillon et al\n",
    "common_spikes_index = []\n",
    "\n",
    "# format: [spike_id, threshold_type, first_index, last_index, max_index, max_amp, duration(calc once for all after convert to df), sleep_stage?]\n",
    "spikes_list = []\n",
    "\n",
    "\n",
    "def get_markers(data, index_above_threshold, thresh_type, sr):\n",
    "    max_markers_index = []\n",
    "    max_marker_value = []\n",
    "    min_spike_points = sr / (1000 / min_spike_length_ms)\n",
    "    # find max markers\n",
    "    counter = 1\n",
    "    curr_spike = [thresh_type, index_above_threshold[0]]\n",
    "    for j in range(len(index_above_threshold)):\n",
    "        # check that the next index is the same spike\n",
    "        if j + 1 < len(index_above_threshold) and index_above_threshold[j + 1] - index_above_threshold[j] == 1:\n",
    "            counter += 1\n",
    "        # the current spike finished\n",
    "        else:\n",
    "            # check min time of spike\n",
    "            if counter >= min_spike_points:\n",
    "                # check if the peak is positive or negative and append it's value\n",
    "                max_value = data[index_above_threshold[j - counter + 1]: index_above_threshold[j] + 1].max()\n",
    "                min_value = data[index_above_threshold[j - counter + 1]: index_above_threshold[j] + 1].min()\n",
    "                value = max_value if abs(max_value) > abs(min_value) else min_value\n",
    "                index = np.intersect1d(np.where(data == value)[0], index_above_threshold[j - counter + 1: j + 1])[0]\n",
    "                max_marker_value.append(value)\n",
    "                max_markers_index.append(index)\n",
    "                curr_spike.extend((index_above_threshold[j], index, value))\n",
    "                spikes_list.append(curr_spike)\n",
    "\n",
    "            if j + 1 < len(index_above_threshold):\n",
    "                curr_spike = [thresh_type, index_above_threshold[j + 1]]\n",
    "                counter = 1\n",
    "\n",
    "    return np.array(max_markers_index), np.array(max_marker_value)\n",
    "\n",
    "\n",
    "def detect(data, sampling_rate, thresh_amp, thresh_grad, thresh_env, plot=False):\n",
    "    points_in_block = block_size_sec * sampling_rate\n",
    "    number_of_blocks = math.floor(len(data) / points_in_block)\n",
    "    max_markers_index_amp, max_markers_index_grad, max_markers_index_env, all_common_index, all_common_value = [], [], [], [], []\n",
    "    if plot:\n",
    "        plt.plot(data, alpha=0.8)\n",
    "\n",
    "    for i in range(number_of_blocks):\n",
    "        curr_block = data[i * points_in_block: (i + 1) * points_in_block]\n",
    "\n",
    "        # check amplitude threshold\n",
    "        if use_amp or use_amp_env or use_amp_grad:\n",
    "            z_score_amp = stats.zscore(curr_block)\n",
    "            points_above_thresh_amp = z_score_amp[z_score_amp > thresh_amp]\n",
    "            points_above_low_thresh_amp = z_score_amp[z_score_amp > threshold_amp_conj]\n",
    "            # get indexes from z_score values and add offset of the current block\n",
    "            if len(points_above_thresh_amp) > 0:\n",
    "                index_above_threshold_amp = (z_score_amp > thresh_amp).nonzero()[0] + i * points_in_block\n",
    "                max_markers_index_amp, max_marker_value_amp = get_markers(data, index_above_threshold_amp, 'amp', sampling_rate)\n",
    "\n",
    "        # check gradient threshold\n",
    "        if use_grad or use_amp_grad:\n",
    "            gradient_diff = np.diff(curr_block)\n",
    "            z_score_grad = stats.zscore(np.insert(gradient_diff, 0, 0))\n",
    "            points_above_thresh_grad = z_score_grad[z_score_grad > thresh_grad]\n",
    "            points_above_low_thresh_grad = z_score_grad[z_score_grad > threshold_grad_conj]\n",
    "            if len(points_above_thresh_grad) > 0:\n",
    "                index_above_threshold_grad = (z_score_grad > thresh_grad).nonzero()[0] + i * points_in_block\n",
    "                max_markers_index_grad, max_marker_value_grad = get_markers(data, index_above_threshold_grad, 'grad', sampling_rate)\n",
    "\n",
    "        # check envelope threshold\n",
    "        if use_env or use_amp_env:\n",
    "            filtered_block = mne.filter.filter_data(curr_block, sampling_rate, low_pass, high_pass)\n",
    "            env_block = abs(signal.hilbert(filtered_block))\n",
    "            z_score_env = stats.zscore(env_block)\n",
    "            points_above_thresh_env = z_score_env[z_score_env > thresh_env]\n",
    "            points_above_low_thresh_env = z_score_env[z_score_env > threshold_env_conj]\n",
    "            if len(points_above_thresh_env) > 0:\n",
    "                index_above_threshold_env = (z_score_env > thresh_env).nonzero()[0] + i * points_in_block\n",
    "                max_markers_index_env, max_marker_value_env = get_markers(data, index_above_threshold_env, 'env', sampling_rate)\n",
    "\n",
    "        # check conjunction of amplitude and gradient with lower thresholds\n",
    "        if use_amp_grad:\n",
    "            if len(points_above_low_thresh_amp) > 0 and len(points_above_low_thresh_grad) > 0:\n",
    "                index_above_low_threshold_amp = (z_score_amp > threshold_amp_conj).nonzero()[0] + i * points_in_block\n",
    "                index_above_low_threshold_grad = (z_score_grad > threshold_grad_conj).nonzero()[0] + i * points_in_block\n",
    "                # get the common indexes of the two thresholds\n",
    "                index_above_low_thresh_amp_grad = np.intersect1d(index_above_low_threshold_amp, index_above_low_threshold_grad)\n",
    "                if len(index_above_low_thresh_amp_grad) > 0:\n",
    "                    max_markers_index_amp_grad, max_marker_value_amp_grad = get_markers(data, index_above_low_thresh_amp_grad, 'amp_grad', sampling_rate)\n",
    "\n",
    "        # check conjunction of amplitude and envelope with lower thresholds\n",
    "        if use_amp_env:\n",
    "            if len(points_above_low_thresh_amp) > 0 and len(points_above_low_thresh_env) > 0:\n",
    "                index_above_low_threshold_amp = (z_score_amp > threshold_amp_conj).nonzero()[0] + i * points_in_block\n",
    "                index_above_low_threshold_env = (z_score_env > threshold_env_conj).nonzero()[0] + i * points_in_block\n",
    "                # get the common indexes of the two thresholds\n",
    "                index_above_low_thresh_amp_env = np.intersect1d(index_above_low_threshold_amp, index_above_low_threshold_env)\n",
    "                if len(index_above_low_thresh_amp_env) > 0:\n",
    "                    max_markers_index_amp_grad, max_marker_value_amp_grad = get_markers(data, index_above_low_thresh_amp_env, 'amp_env', sampling_rate)\n",
    "\n",
    "        # TODO: add the conjunctions!!\n",
    "        if plot:\n",
    "            # find the points that are shared in all thresholds\n",
    "            common_index = np.intersect1d(max_markers_index_amp, max_markers_index_grad)\n",
    "            if len(common_index) > 0:\n",
    "                all_common_index = np.intersect1d(common_index, max_markers_index_env)\n",
    "                common_spikes_index.extend(all_common_index)\n",
    "                all_common_value = data[all_common_index] if len(all_common_index) > 0 else []\n",
    "\n",
    "                # remove the shared points\n",
    "                max_markers_index_amp = max_markers_index_amp[~np.in1d(max_markers_index_amp, all_common_index)]\n",
    "                max_markers_index_grad = max_markers_index_grad[~np.in1d(max_markers_index_grad, all_common_index)]\n",
    "                max_markers_index_env = max_markers_index_env[~np.in1d(max_markers_index_env, all_common_index)]\n",
    "\n",
    "            # draw\n",
    "            plt.scatter(all_common_index, all_common_value, marker='D', color='black')\n",
    "            plt.scatter(max_markers_index_amp, data[max_markers_index_amp] if len(max_markers_index_amp) > 0 else [], marker='X', color='fuchsia')\n",
    "            plt.scatter(max_markers_index_grad, data[max_markers_index_grad] if len(max_markers_index_grad) > 0 else [], marker='P', color='red')\n",
    "            plt.scatter(max_markers_index_env, data[max_markers_index_env] if len(max_markers_index_env) > 0 else [], marker='o', color='blue', s=15)\n",
    "            plt.legend(['signal', 'all', 'amplitude', 'gradient', 'envelope'], loc='upper right')\n",
    "            # plt.scatter(max_markers_index_env, max_marker_value_env, marker='X', color='black')\n",
    "\n",
    "    print('cool')\n",
    "    if plot:\n",
    "        plt.close()\n",
    "\n",
    "    return True\n"
   ],
   "metadata": {
    "collapsed": false,
    "pycharm": {
     "name": "#%%\n"
    }
   }
  },
  {
   "cell_type": "code",
   "execution_count": 20,
   "outputs": [
    {
     "name": "stdout",
     "output_type": "stream",
     "text": [
      "Extracting EDF parameters from /Users/rotemfalach/Documents/University/lab/data/416_for_tag.edf...\n",
      "EDF file detected\n",
      "Setting channel info structure...\n",
      "Creating raw.info structure...\n"
     ]
    },
    {
     "name": "stderr",
     "output_type": "stream",
     "text": [
      "/Users/rotemfalach/projects/venv/mmf_to_edf/lib/python3.7/site-packages/scipy/signal/spectral.py:1963: UserWarning: nperseg = 256 is greater than input length  = 250, using nperseg = 250\n",
      "  .format(nperseg, input_length))\n"
     ]
    }
   ],
   "source": [
    "channel = 'LAH1'\n",
    "subj = '416'\n",
    "x = format_raw_night(edf_path % subj, channel)\n",
    "features = calc_features_fast(x, subj)\n",
    "y = model.predict(features[features_names[1:]])"
   ],
   "metadata": {
    "collapsed": false,
    "pycharm": {
     "name": "#%%\n"
    }
   }
  },
  {
   "cell_type": "code",
   "execution_count": 22,
   "outputs": [
    {
     "data": {
      "text/plain": "96.0"
     },
     "execution_count": 22,
     "metadata": {},
     "output_type": "execute_result"
    }
   ],
   "source": [
    "y.sum()"
   ],
   "metadata": {
    "collapsed": false,
    "pycharm": {
     "name": "#%%\n"
    }
   }
  },
  {
   "cell_type": "code",
   "execution_count": null,
   "outputs": [],
   "source": [
    "from sklearn.metrics import confusion_matrix\n",
    "def get_cm(raw, tags, detections, sr):\n",
    "    # make it 1Hz\n",
    "    y_actual = np.zeros(int(raw.n_times / sr), dtype=int)\n",
    "    y_pred = np.zeros(int(raw.n_times / sr), dtype=int)\n",
    "    # floor to 1 sec resolution\n",
    "    for x in tags:\n",
    "        y_actual[math.floor(x)] = 1\n",
    "        # y_actual[int(x * 4) - 1: int(x * 4) + 2] = 1\n",
    "    for i, x in detections[detections['max_index'] / sr < raw.n_times/ sr].iterrows():\n",
    "        y_pred[math.floor(x['max_index'] / sr)] = 1\n",
    "\n",
    "    cm = confusion_matrix(y_actual, y_pred)\n",
    "    return cm, y_actual, y_pred"
   ],
   "metadata": {
    "collapsed": false,
    "pycharm": {
     "name": "#%%\n"
    }
   }
  },
  {
   "cell_type": "code",
   "execution_count": null,
   "outputs": [],
   "source": [
    "# old code\n",
    "path = 'C:\\\\Users\\\\user\\\\PycharmProjects\\\\pythonProject\\\\results\\\\'\n",
    "\n",
    "results_dict = {'file': [], 'accuracy': [], 'precision': [], 'recall': [], 'f1': [], 'cm': [], 'tags_count': [], 'roc_auc': [],\n",
    "                'avg_precision': []}\n",
    "for subj in [34]:\n",
    "    raw = mne.io.read_raw_edf(path + f'{subj}\\\\{subj}_for_tag.edf')\n",
    "    right_tags = pd.read_csv(path + f'{subj}\\\\{subj}_tags.csv')['R'].dropna()\n",
    "    left_tags = pd.read_csv(path + f'{subj}\\\\{subj}_tags.csv')['L'].dropna()\n",
    "    # take only 1 area for now\n",
    "    files = [x for x in os.listdir(path + f'{subj}\\\\detections') if 'LAH1' in x]\n",
    "    for file in files:\n",
    "        pred_df = pd.read_csv(path + f'{subj}\\\\detections\\\\' + file)\n",
    "        if 'RA' in file:\n",
    "            tags = right_tags\n",
    "        else:\n",
    "            tags = left_tags\n",
    "        # crop raw object according to the last spike tag\n",
    "        raw.crop(tmin=0, tmax=tags[tags.size -1] + 1)\n",
    "        cm, y_actual, y_pred = get_cm(raw, tags, pred_df, int(raw.info['sfreq']))\n",
    "        metrics = get_metrics(cm)\n",
    "        results_dict['file'].append(file)\n",
    "        results_dict['accuracy'].append(metrics['accuracy'])\n",
    "        results_dict['precision'].append(metrics['precision'])\n",
    "        results_dict['recall'].append(metrics['recall'])\n",
    "        results_dict['f1'].append(metrics['f1'])\n",
    "        results_dict['cm'].append(cm)\n",
    "        results_dict['tags_count'].append(tags.size)\n",
    "        results_dict['roc_auc'].append(roc_auc_score(y_actual, y_pred))\n",
    "        results_dict['avg_precision'].append(average_precision_score(y_actual, y_pred))\n",
    "\n",
    "results_df = pd.DataFrame(results_dict).sort_values('roc_auc', ascending=False)"
   ],
   "metadata": {
    "collapsed": false,
    "pycharm": {
     "name": "#%%\n"
    }
   }
  },
  {
   "cell_type": "code",
   "execution_count": 50,
   "outputs": [],
   "source": [
    "def get_maya_y(edf, chan):\n",
    "    epochs, epochs_zscore, epochs_random, epochs_index = [], [], [], []\n",
    "    window_size = 250\n",
    "    raw = mne.io.read_raw_edf(edf)\n",
    "    pred = pd.read_csv(edf.replace('.edf', '') + f'_{chan}_maya_params.csv')\n",
    "    pred_df = pd.DataFrame(pred)\n",
    "    # pred_df['onset'] = pred_df['max_index'] / 1000\n",
    "    spikes_df = pd.DataFrame(raw.annotations)\n",
    "    end_onset = list(spikes_df[spikes_df['description'].str.contains('END')]['onset'])[0]\n",
    "    spikes_df = spikes_df[spikes_df['description'].str.contains(channel[0] + 't')]\n",
    "    spikes_df = spikes_df.drop_duplicates(subset=['onset'])\n",
    "    complete_spikes_df = spikes_df[spikes_df['onset'] < end_onset]\n",
    "\n",
    "    # from second tags round- complete data\n",
    "    raw_data = raw.crop(tmax=end_onset).pick_channels([channel]).resample(sr).get_data()[0]\n",
    "    # normalize raw!\n",
    "    raw_data = sp_stats.zscore(raw_data)\n",
    "\n",
    "    for i in range(0, len(raw_data), window_size):\n",
    "        curr_block = raw_data[i: i  + window_size]\n",
    "        if i + window_size < len(raw_data):\n",
    "            epochs.append(curr_block)\n",
    "\n",
    "    y_windows = np.zeros(len(epochs))\n",
    "    for onset in pred_df['max_index']:\n",
    "        if int(onset / window_size) < len(y_windows):\n",
    "            y_windows[int(onset / window_size)] = 1\n",
    "\n",
    "    return y_windows"
   ],
   "metadata": {
    "collapsed": false,
    "pycharm": {
     "name": "#%%\n"
    }
   }
  },
  {
   "cell_type": "code",
   "execution_count": 34,
   "outputs": [],
   "source": [
    "def format_raw(edf, channel):\n",
    "    epochs, epochs_zscore, epochs_random, epochs_index = [], [], [], []\n",
    "    window_size = int(sr / 4)\n",
    "    raw = mne.io.read_raw_edf(edf)\n",
    "    spikes = raw.annotations\n",
    "    spikes_df = pd.DataFrame(spikes)\n",
    "    end_onset = list(spikes_df[spikes_df['description'].str.contains('END')]['onset'])[0]\n",
    "    spikes_df = spikes_df[spikes_df['description'].str.contains(channel[0] + 't')]\n",
    "    spikes_df = spikes_df.drop_duplicates(subset=['onset'])\n",
    "    complete_spikes_df = spikes_df[spikes_df['onset'] < end_onset]\n",
    "\n",
    "    # from second tags round- complete data\n",
    "    raw_data = raw.crop(tmax=end_onset).pick_channels([channel]).resample(sr).get_data()[0]\n",
    "    raw_data = sp_stats.zscore(raw_data)\n",
    "\n",
    "    for i in range(0, len(raw_data), window_size):\n",
    "        curr_block = raw_data[i: i  + window_size]\n",
    "        if i + window_size < len(raw_data):\n",
    "            epochs.append(curr_block)\n",
    "\n",
    "    y_windows = np.zeros(len(epochs))\n",
    "    for onset in complete_spikes_df['onset']:\n",
    "        y_windows[int(onset * 1000 / window_size)] = 1\n",
    "\n",
    "    return y_windows"
   ],
   "metadata": {
    "collapsed": false,
    "pycharm": {
     "name": "#%%\n"
    }
   }
  },
  {
   "cell_type": "code",
   "execution_count": 35,
   "outputs": [
    {
     "name": "stdout",
     "output_type": "stream",
     "text": [
      "Extracting EDF parameters from /Users/rotemfalach/Documents/University/lab/Lilach_new/396_for_tag_filtered_fix_tag.edf...\n",
      "EDF file detected\n",
      "Setting channel info structure...\n",
      "Creating raw.info structure...\n"
     ]
    }
   ],
   "source": [
    "y_left = format_raw(edf, 'LAH1')"
   ],
   "metadata": {
    "collapsed": false,
    "pycharm": {
     "name": "#%%\n"
    }
   }
  },
  {
   "cell_type": "code",
   "execution_count": 38,
   "outputs": [
    {
     "data": {
      "text/plain": "17.0"
     },
     "execution_count": 38,
     "metadata": {},
     "output_type": "execute_result"
    }
   ],
   "source": [
    "y_left.sum()"
   ],
   "metadata": {
    "collapsed": false,
    "pycharm": {
     "name": "#%%\n"
    }
   }
  },
  {
   "cell_type": "code",
   "execution_count": 39,
   "outputs": [
    {
     "data": {
      "text/plain": "15.0"
     },
     "execution_count": 39,
     "metadata": {},
     "output_type": "execute_result"
    }
   ],
   "source": [
    "y_maya_left.sum()"
   ],
   "metadata": {
    "collapsed": false,
    "pycharm": {
     "name": "#%%\n"
    }
   }
  },
  {
   "cell_type": "code",
   "execution_count": null,
   "outputs": [],
   "source": [
    "get_metrics()"
   ],
   "metadata": {
    "collapsed": false,
    "pycharm": {
     "name": "#%%\n"
    }
   }
  },
  {
   "cell_type": "code",
   "execution_count": 52,
   "outputs": [],
   "source": [
    "def plot_cm(y_test, y_pred):\n",
    "    f, axes = plt.subplots(1, 1, figsize=(10, 5), sharey='row')\n",
    "    cf_matrix = confusion_matrix(y_test, y_pred)\n",
    "    metrics = get_metrics(cf_matrix)\n",
    "    disp = ConfusionMatrixDisplay(cf_matrix)\n",
    "    disp.plot(ax=axes)\n",
    "    text = \"\"\"precision: {0}\n",
    "                  recall: {1}\"\"\".format(str('{0:.2f}'.format(metrics['precision'])), str('{0:.2f}'.format(metrics['recall'])))\n",
    "    axes.annotate(text, xy=(1, 0), xycoords='axes fraction', fontsize=16,\n",
    "                     xytext=(-60, -40), textcoords='offset points',\n",
    "                     ha='right', va='top')\n",
    "    disp.im_.colorbar.remove()\n",
    "    disp.ax_.set_xlabel('')\n",
    "    if i!=0:\n",
    "        disp.ax_.set_ylabel('')\n",
    "\n",
    "    f.text(0.5, 0.1, 'Predicted label', ha='left')\n",
    "    plt.show()"
   ],
   "metadata": {
    "collapsed": false,
    "pycharm": {
     "name": "#%%\n"
    }
   }
  },
  {
   "cell_type": "code",
   "execution_count": 71,
   "outputs": [
    {
     "name": "stdout",
     "output_type": "stream",
     "text": [
      "Extracting EDF parameters from /Users/rotemfalach/Documents/University/lab/Lilach_new/416_for_tag_filtered_fix_tag.edf...\n",
      "EDF file detected\n",
      "Setting channel info structure...\n",
      "Creating raw.info structure...\n",
      "Extracting EDF parameters from /Users/rotemfalach/Documents/University/lab/Lilach_new/416_for_tag_filtered_fix_tag.edf...\n",
      "EDF file detected\n",
      "Setting channel info structure...\n",
      "Creating raw.info structure...\n",
      "Extracting EDF parameters from /Users/rotemfalach/Documents/University/lab/Lilach_new/416_for_tag_filtered_fix_tag.edf...\n",
      "EDF file detected\n",
      "Setting channel info structure...\n",
      "Creating raw.info structure...\n",
      "Extracting EDF parameters from /Users/rotemfalach/Documents/University/lab/Lilach_new/416_for_tag_filtered_fix_tag.edf...\n",
      "EDF file detected\n",
      "Setting channel info structure...\n",
      "Creating raw.info structure...\n"
     ]
    },
    {
     "data": {
      "text/plain": "<Figure size 720x360 with 1 Axes>",
      "image/png": "[encoded data removed]"
     },
     "metadata": {},
     "output_type": "display_data"
    }
   ],
   "source": [
    "edf = '/Users/rotemfalach/Documents/University/lab/Lilach_new/416_for_tag_filtered_fix_tag.edf'\n",
    "y_maya_right = get_maya_y(edf, 'RAH1-RAH2')\n",
    "y_maya_left = get_maya_y(edf, 'LAH1-LAH2')\n",
    "y_maya = np.concatenate((y_maya_right, y_maya_right))\n",
    "y_right = format_raw(edf, 'RAH1-RAH2')\n",
    "y_left = format_raw(edf, 'LAH1-LAH2')\n",
    "y_bi = np.concatenate((y_right, y_left))\n",
    "plot_cm(y_bi, y_maya)"
   ],
   "metadata": {
    "collapsed": false,
    "pycharm": {
     "name": "#%%\n"
    }
   }
  },
  {
   "cell_type": "code",
   "execution_count": 72,
   "outputs": [
    {
     "name": "stdout",
     "output_type": "stream",
     "text": [
      "Extracting EDF parameters from /Users/rotemfalach/Documents/University/lab/Lilach_new/416_for_tag_filtered_fix_tag.edf...\n",
      "EDF file detected\n",
      "Setting channel info structure...\n",
      "Creating raw.info structure...\n",
      "Extracting EDF parameters from /Users/rotemfalach/Documents/University/lab/Lilach_new/416_for_tag_filtered_fix_tag.edf...\n",
      "EDF file detected\n",
      "Setting channel info structure...\n",
      "Creating raw.info structure...\n",
      "Extracting EDF parameters from /Users/rotemfalach/Documents/University/lab/Lilach_new/416_for_tag_filtered_fix_tag.edf...\n",
      "EDF file detected\n",
      "Setting channel info structure...\n",
      "Creating raw.info structure...\n",
      "Extracting EDF parameters from /Users/rotemfalach/Documents/University/lab/Lilach_new/416_for_tag_filtered_fix_tag.edf...\n",
      "EDF file detected\n",
      "Setting channel info structure...\n",
      "Creating raw.info structure...\n"
     ]
    },
    {
     "data": {
      "text/plain": "<Figure size 720x360 with 1 Axes>",
      "image/png": "[encoded data removed]"
     },
     "metadata": {},
     "output_type": "display_data"
    }
   ],
   "source": [
    "edf = '/Users/rotemfalach/Documents/University/lab/Lilach_new/416_for_tag_filtered_fix_tag.edf'\n",
    "y_maya_right = get_maya_y(edf, 'RAH1')\n",
    "y_maya_left = get_maya_y(edf, 'LAH1')\n",
    "y_maya = np.concatenate((y_maya_right, y_maya_right))\n",
    "y_right = format_raw(edf, 'RAH1')\n",
    "y_left = format_raw(edf, 'LAH1')\n",
    "y_bi = np.concatenate((y_right, y_left))\n",
    "plot_cm(y_bi, y_maya)"
   ],
   "metadata": {
    "collapsed": false,
    "pycharm": {
     "name": "#%%\n"
    }
   }
  },
  {
   "cell_type": "code",
   "execution_count": 62,
   "outputs": [
    {
     "data": {
      "text/plain": "array([0., 0., 2., 0., 0., 2., 2., 0., 0., 0., 0., 0., 0., 0., 0., 0., 0.,\n       0., 0., 0., 0., 0., 0., 0., 0., 0., 0., 0., 0., 0., 0., 0., 0., 0.,\n       0., 0., 0., 0., 0., 0., 0., 0., 0., 0., 0., 0., 0., 0., 0., 0., 0.,\n       0., 0., 0., 0., 0., 0., 0., 0., 0., 0., 0., 0., 0., 0., 0., 0., 0.,\n       0., 0., 0., 0., 0., 0., 0., 0., 0., 0., 0., 0., 0., 0., 0., 0., 0.,\n       0., 0., 0., 0., 0., 0., 0., 0., 0., 0., 0., 0., 0., 0., 0., 0., 0.,\n       0., 0., 0., 0., 0., 0., 0., 0., 0., 0., 0., 0., 0., 0., 0., 0., 0.,\n       0., 0., 0., 0., 0., 0., 0., 0., 0., 0., 0., 0., 0., 0., 0., 0., 0.,\n       0., 0., 0., 0., 0., 0., 0., 2., 2., 0., 0., 0., 0., 0., 0., 0., 0.,\n       0., 0., 0., 0., 0., 0., 0., 0., 0., 0., 0., 0., 0., 0., 0., 0., 0.,\n       0., 2., 0., 2., 0., 0., 0., 0., 0., 0., 0., 0., 0., 0., 0., 0., 0.,\n       0., 0., 0., 0., 0., 0., 0., 0., 0., 0., 0., 0., 0., 0., 0., 0., 0.,\n       0., 0., 0., 0., 0., 0., 0., 0., 0., 0., 0., 0., 0., 0., 0., 0., 0.,\n       0., 0., 0., 0., 0., 0., 0., 0., 0., 0., 0., 0., 0., 0., 0., 0., 0.,\n       0., 0., 0., 0., 0., 0., 0., 0., 0., 0., 0., 0., 0., 0., 0., 0., 0.,\n       0., 0., 0., 0., 0., 0., 0., 0., 0., 0., 0., 0., 0., 0., 0., 2., 2.,\n       0., 0., 0., 0., 0., 0., 0., 0., 0., 0., 0., 0., 0., 0., 0., 0., 0.,\n       0., 0., 0., 0., 0., 0., 0., 0., 0., 0., 0., 0., 0., 0., 0., 0., 0.,\n       0., 0., 0., 0., 0., 0., 0., 0., 0., 0., 0., 0., 0., 0., 0., 0., 0.,\n       0., 0., 0., 0., 0., 0., 0., 0., 0., 0., 0., 0., 0., 0., 0., 0., 0.,\n       0., 0., 0., 0., 0., 0., 0., 0., 0., 2., 2., 2., 0., 0., 0., 0., 0.,\n       0., 0., 0., 0., 0., 0., 0., 0., 0., 0., 0., 0., 0., 0., 0., 0., 0.,\n       0., 0., 0., 0., 0., 0., 0., 0., 0., 0., 0., 0., 0., 0., 0., 0., 0.,\n       0., 0., 0., 0., 0., 0., 0., 0., 0., 0., 0., 0., 0., 0., 0., 0., 0.,\n       0., 0., 0., 0., 0., 0., 0., 0., 0., 0., 0., 0., 0., 0., 0., 0., 0.,\n       0., 0., 0., 0., 0., 0., 0., 0., 0., 0., 0., 0., 0., 0., 0., 0., 0.,\n       0., 0., 0., 0., 0., 0., 0., 0., 0., 0., 0., 0., 0., 0., 0., 0., 0.,\n       0., 0., 0., 0., 0., 0., 0., 0., 0., 0., 0., 0., 0., 0., 0., 0., 0.,\n       0., 0., 0., 0., 0., 0., 0., 0., 0., 0., 0., 0., 0., 0., 0., 0., 0.,\n       0., 0., 0., 0., 0., 0., 0., 0., 0., 0., 0., 0., 0., 0., 0., 0., 0.,\n       0., 0., 0., 0., 0., 0., 0., 0., 0., 0., 0., 0., 0., 0., 0., 0., 0.,\n       0., 0., 0., 0., 0., 0., 0., 0., 0., 0., 0., 0., 0., 0., 0., 0., 0.,\n       0., 0., 0., 0., 0., 0., 0., 0., 0., 0., 0., 0., 0., 0., 0., 0., 0.,\n       0., 0., 0., 0., 0., 0., 0., 0., 0., 0., 0., 0., 0., 0., 0., 0., 0.,\n       0., 0., 0., 0., 0., 0., 0., 0., 2., 0., 0., 0., 0., 0., 0., 0., 0.,\n       0., 0., 0., 0., 0., 0., 0., 0., 0., 0., 0., 0., 0., 0., 0., 0., 0.,\n       0., 0., 0., 0., 0., 0., 0., 0., 0., 0., 0., 0., 0., 0., 0., 0., 0.,\n       0., 0., 0., 0., 0., 0., 0., 0., 0., 0., 0., 0., 0., 0., 0., 0., 0.,\n       0., 0., 0., 0., 0., 0., 0., 0., 0., 0., 0., 0., 0., 0., 0., 0., 0.,\n       0., 0., 0., 0., 0., 0., 0., 0., 0., 0., 0., 0., 0., 0., 0., 0., 0.,\n       0., 0., 0., 0., 0., 0., 0., 0., 0., 2., 0., 0., 2., 0., 0., 0., 0.,\n       0., 0., 0., 0., 0., 0., 0., 0., 0., 0., 0., 0., 0., 0., 0., 0., 0.,\n       0., 0., 0., 0., 0., 0., 0., 0., 0., 2., 0., 0., 0., 0., 0., 0., 0.,\n       0., 0., 0., 0., 0., 0., 0., 0., 0., 2., 0., 0., 0., 0., 0., 0., 0.,\n       0., 0., 0., 0., 0., 0., 0., 0., 0., 0., 0., 0., 0., 0., 0., 0., 0.,\n       0., 0., 0., 0., 0., 0., 0., 0., 0.])"
     },
     "execution_count": 62,
     "metadata": {},
     "output_type": "execute_result"
    }
   ],
   "source": [
    "y_maya"
   ],
   "metadata": {
    "collapsed": false,
    "pycharm": {
     "name": "#%%\n"
    }
   }
  },
  {
   "cell_type": "code",
   "execution_count": null,
   "outputs": [],
   "source": [],
   "metadata": {
    "collapsed": false,
    "pycharm": {
     "name": "#%%\n"
    }
   }
  }
 ],
 "metadata": {
  "kernelspec": {
   "display_name": "Python 3",
   "language": "python",
   "name": "python3"
  },
  "language_info": {
   "codemirror_mode": {
    "name": "ipython",
    "version": 2
   },
   "file_extension": ".py",
   "mimetype": "text/x-python",
   "name": "python",
   "nbconvert_exporter": "python",
   "pygments_lexer": "ipython2",
   "version": "2.7.6"
  }
 },
 "nbformat": 4,
 "nbformat_minor": 0
}